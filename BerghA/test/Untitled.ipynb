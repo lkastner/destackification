{
 "cells": [
  {
   "cell_type": "code",
   "execution_count": 2,
   "id": "7e092bdc",
   "metadata": {},
   "outputs": [
    {
     "name": "stdout",
     "output_type": "stream",
     "text": [
      "\u001b[37m\u001b[1mTest Summary: | \u001b[22m\u001b[39m\u001b[32m\u001b[1mPass  \u001b[22m\u001b[39m\u001b[36m\u001b[1mTotal\u001b[22m\u001b[39m\n",
      "BerghA.jl     | \u001b[32m   2  \u001b[39m\u001b[36m    2\u001b[39m\n"
     ]
    },
    {
     "data": {
      "text/plain": [
       "Test.DefaultTestSet(\"BerghA.jl\", Any[Test.DefaultTestSet(\"test one\", Any[], 1, false, false), Test.DefaultTestSet(\"test two\", Any[], 1, false, false)], 0, false, false)"
      ]
     },
     "execution_count": 2,
     "metadata": {},
     "output_type": "execute_result"
    }
   ],
   "source": [
    "using BerghA\n",
    "using Polymake\n",
    "using Test\n",
    "\n",
    "\n",
    "@testset \"BerghA.jl\" begin\n",
    "    @testset \"test one\" begin\n",
    "        @test 1+1 == 2\n",
    "    end\n",
    "    @testset \"test two\" begin\n",
    "        X=Polymake.fulton.NormalToricVariety(INPUT_RAYS=[1 0; 2 5],INPUT_CONES=[[0,1]]);\n",
    "        F=addStackStructure(X,[1,1]);\n",
    "        \n",
    "#          @test BerghAEfficient(F,[1,0]) == (StackyFan(Polymake.BigObjectAllocated(Ptr{Nothing} @0x00007f891d77b310), Dict(\"1,2\" => 5, \"2,5\" => 1, \"2,3\" => 10, \"1,0\" => 2, \"3,5\" => 5, \"1,1\" => 5)))\n",
    "        @test BerghAEfficient(F,[1,0]).stacks[\"1,2\"] == 5\n",
    "\n",
    "\n",
    "    end\n",
    "end\n"
   ]
  },
  {
   "cell_type": "code",
   "execution_count": null,
   "id": "87e47dcc",
   "metadata": {},
   "outputs": [],
   "source": []
  }
 ],
 "metadata": {
  "kernelspec": {
   "display_name": "Julia 1.6.1",
   "language": "julia",
   "name": "julia-1.6"
  },
  "language_info": {
   "file_extension": ".jl",
   "mimetype": "application/julia",
   "name": "julia",
   "version": "1.6.1"
  }
 },
 "nbformat": 4,
 "nbformat_minor": 5
}
