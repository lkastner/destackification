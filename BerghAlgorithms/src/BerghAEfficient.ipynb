{
 "cells": [
  {
   "cell_type": "code",
   "execution_count": 2,
   "id": "c2adc387",
   "metadata": {},
   "outputs": [
    {
     "data": {
      "text/plain": [
       "findStackyRayMatrix (generic function with 1 method)"
      ]
     },
     "execution_count": 2,
     "metadata": {},
     "output_type": "execute_result"
    }
   ],
   "source": [
    "include(\"StackyFan.jl\")"
   ]
  },
  {
   "cell_type": "code",
   "execution_count": 3,
   "id": "a8892b3c",
   "metadata": {},
   "outputs": [
    {
     "data": {
      "text/plain": [
       "plot2dCone (generic function with 1 method)"
      ]
     },
     "execution_count": 3,
     "metadata": {},
     "output_type": "execute_result"
    }
   ],
   "source": [
    "function plot3dCone(L::Array{Array{Int64,1},1})\n",
    "    l=size(L,1)\n",
    "    if l==3\n",
    "        (x1,y1,z1)=L[1]\n",
    "        (x2,y2,z2)=L[2]\n",
    "        (x3,y3,z3)=L[3]\n",
    "        X=[0,x1,0,x2,0,x3,x2,x1,x3]\n",
    "        Y=[0,y1,0,y2,0,y3,y2,y1,y3]\n",
    "        Z=[0,z1,0,z2,0,z3,z2,z1,z3]\n",
    "        plot!(X,Y,Z)\n",
    "    elseif l==2\n",
    "        (x1,y1,z1)=L[1]\n",
    "        (x2,y2,z2)=L[2]\n",
    "        X=[0,x1,x2,0]\n",
    "        Y=[0,y1,y2,0]\n",
    "        Z=[0,z1,z2,0]\n",
    "        plot!(X,Y,Z)\n",
    "    elseif l==1\n",
    "        (x1,y1,z1)=L[1]\n",
    "        X=[0,x1]\n",
    "        Y=[0,y1]\n",
    "        Z=[0,z1]\n",
    "        plot!(X,Y,Z)\n",
    "    else \n",
    "        error(\"Input cone is empty or not simplicial.\")\n",
    "    end\n",
    "end\n",
    "\n",
    "function plot2dCone(L::Array{Array{Int64,1},1})\n",
    "    l=size(L,1)\n",
    "    if l==2\n",
    "        (x1,y1)=L[1]\n",
    "        (x2,y2)=L[2]\n",
    "        S=Shape([(0,0),(x1,y1),(x2,y2)])\n",
    "        plot!(S)\n",
    "    elseif l==1\n",
    "        (x1,y1)=L[1]\n",
    "        X=[0,x1]\n",
    "        Y=[0,y1]\n",
    "        plot!(X,Y)\n",
    "    else\n",
    "        error(\"Input cone is empty or not simplicial.\")\n",
    "    end\n",
    "end"
   ]
  },
  {
   "cell_type": "code",
   "execution_count": 4,
   "id": "b3fccb2b",
   "metadata": {},
   "outputs": [
    {
     "data": {
      "text/plain": [
       "findStackyRayMatrix (generic function with 1 method)"
      ]
     },
     "execution_count": 4,
     "metadata": {},
     "output_type": "execute_result"
    }
   ],
   "source": [
    "function showFan(X::Polymake.BigObjectAllocated)\n",
    "    plot()\n",
    "    rayMatrix=convert(Array{Int64,2},Array(Polymake.common.primitive(X.RAYS)))\n",
    "    dim=size(rayMatrix,2)\n",
    "    if !(dim in [2,3])\n",
    "         println(\"Fan visualization is only supported in dimensions 2 and 3.\")\n",
    "    end\n",
    "    maxCones=convertIncidenceMatrix(X.MAXIMAL_CONES)\n",
    "    for cone in maxCones\n",
    "        coneRays=slicematrix(rowMinors(rayMatrix,cone))\n",
    "        if dim==2\n",
    "            plot2dCone(coneRays)\n",
    "        elseif dim==3\n",
    "            plot3dCone(coneRays)\n",
    "        end\n",
    "    end\n",
    "    plot!()\n",
    "end\n",
    "\n",
    "function showStackyFan(F::StackyFan;stacks=false,stackypoints=true)\n",
    "    X=F.fan\n",
    "    plot()\n",
    "    if stacks==false\n",
    "        rayMatrix=convert(Array{Int64,2},Array(Polymake.common.primitive(X.RAYS)))\n",
    "    elseif stacks==true\n",
    "        rayMatrix=findStackyRayMatrix(F)\n",
    "    end\n",
    "    dim=size(rayMatrix,2)\n",
    "    if !(dim in [2,3])\n",
    "         println(\"Fan visualization is only supported in dimensions 2 and 3.\")\n",
    "    end\n",
    "    maxCones=convertIncidenceMatrix(X.MAXIMAL_CONES)\n",
    "    for cone in maxCones\n",
    "        coneRays=slicematrix(rowMinors(rayMatrix,cone))\n",
    "        if dim==2\n",
    "            plot2dCone(coneRays)\n",
    "        elseif dim==3\n",
    "            plot3dCone(coneRays)\n",
    "        end\n",
    "    end\n",
    "    if stackypoints==true\n",
    "        stackyPoints=slicematrix(findStackyRayMatrix(F))\n",
    "        for point in stackyPoints\n",
    "            if dim==2\n",
    "                (x,y)=point\n",
    "                plot!([x],[y],shape=:circle,color=:red)\n",
    "            elseif dim==3\n",
    "                (x,y,z)=point\n",
    "                plot!([x],[y],[z],shape=:circle,color=:red)\n",
    "            end\n",
    "        end\n",
    "    end\n",
    "    plot!(legend=false)\n",
    "end\n",
    "\n",
    "function findStackyRayMatrix(sf::StackyFan)\n",
    "    rayMatrix=convert(Array{Int64,2},Array(Polymake.common.primitive(sf.fan.RAYS)))\n",
    "    sW=stackyWeights(sf)\n",
    "    return sW .* rayMatrix\n",
    "end"
   ]
  },
  {
   "cell_type": "code",
   "execution_count": 11,
   "id": "874aa316",
   "metadata": {},
   "outputs": [
    {
     "data": {
      "text/html": [
       "$5$"
      ],
      "text/plain": [
       "5"
      ]
     },
     "execution_count": 11,
     "metadata": {},
     "output_type": "execute_result"
    }
   ],
   "source": [
    "X=Polymake.fulton.NormalToricVariety(INPUT_RAYS=[1 0; 2 3; 1 5],INPUT_CONES=[[0,1],[1,2]])\n",
    "F=addStackStructure(X,[1,2,1])\n",
    "showStackyFan(F)"
   ]
  },
  {
   "cell_type": "code",
   "execution_count": 7,
   "id": "77b27ac9",
   "metadata": {},
   "outputs": [
    {
     "data": {
      "application/vnd.plotly.v1+json": {
       "data": [
        {
         "colorbar": {
          "title": ""
         },
         "legendgroup": "y1",
         "line": {
          "color": "rgba(0, 154, 250, 1.000)",
          "dash": "solid",
          "shape": "linear",
          "width": 1
         },
         "mode": "lines",
         "name": "y1",
         "scene": "scene",
         "showlegend": true,
         "type": "scatter3d",
         "x": [
          0,
          1,
          0,
          0,
          0,
          0,
          0,
          1,
          0
         ],
         "xaxis": "x",
         "y": [
          0,
          0,
          0,
          1,
          0,
          0,
          1,
          0,
          0
         ],
         "yaxis": "y",
         "z": [
          0,
          0,
          0,
          0,
          0,
          1,
          0,
          0,
          1
         ],
         "zaxis": "z",
         "zmax": null,
         "zmin": null
        }
       ],
       "layout": {
        "annotations": [],
        "height": 400,
        "legend": {
         "bgcolor": "rgba(255, 255, 255, 1.000)",
         "bordercolor": "rgba(0, 0, 0, 1.000)",
         "borderwidth": 1,
         "font": {
          "color": "rgba(0, 0, 0, 1.000)",
          "family": "sans-serif",
          "size": 11
         },
         "title": {
          "font": {
           "color": "rgba(0, 0, 0, 1.000)",
           "family": "sans-serif",
           "size": 15
          },
          "text": ""
         },
         "tracegroupgap": 0,
         "traceorder": "normal",
         "x": 1,
         "xanchor": "auto",
         "y": 1,
         "yanchor": "auto"
        },
        "margin": {
         "b": 20,
         "l": 0,
         "r": 0,
         "t": 20
        },
        "paper_bgcolor": "rgba(255, 255, 255, 1.000)",
        "plot_bgcolor": "rgba(255, 255, 255, 1.000)",
        "scene": {
         "camera": {
          "eye": {
           "x": 1.12583302491977,
           "y": -1.9499999999999997,
           "z": 1.3
          }
         },
         "domain": {
          "x": [
           0.0658209390492855,
           0.9934383202099738
          ],
          "y": [
           0.03762029746281716,
           0.9901574803149606
          ]
         },
         "xaxis": {
          "gridcolor": "rgba(0, 0, 0, 0.100)",
          "gridwidth": 0.5,
          "linecolor": "rgba(0, 0, 0, 1.000)",
          "mirror": false,
          "range": [
           -0.03,
           1.03
          ],
          "showgrid": true,
          "showline": true,
          "showticklabels": true,
          "tickangle": 0,
          "tickcolor": "rgb(0, 0, 0)",
          "tickfont": {
           "color": "rgba(0, 0, 0, 1.000)",
           "family": "sans-serif",
           "size": 11
          },
          "tickmode": "array",
          "ticks": "inside",
          "ticktext": [
           "0.00",
           "0.25",
           "0.50",
           "0.75",
           "1.00"
          ],
          "tickvals": [
           0,
           0.25,
           0.5,
           0.75,
           1
          ],
          "title": "",
          "titlefont": {
           "color": "rgba(0, 0, 0, 1.000)",
           "family": "sans-serif",
           "size": 15
          },
          "type": "-",
          "visible": true,
          "zeroline": false,
          "zerolinecolor": "rgba(0, 0, 0, 1.000)"
         },
         "yaxis": {
          "gridcolor": "rgba(0, 0, 0, 0.100)",
          "gridwidth": 0.5,
          "linecolor": "rgba(0, 0, 0, 1.000)",
          "mirror": false,
          "range": [
           -0.03,
           1.03
          ],
          "showgrid": true,
          "showline": true,
          "showticklabels": true,
          "tickangle": 0,
          "tickcolor": "rgb(0, 0, 0)",
          "tickfont": {
           "color": "rgba(0, 0, 0, 1.000)",
           "family": "sans-serif",
           "size": 11
          },
          "tickmode": "array",
          "ticks": "inside",
          "ticktext": [
           "0.00",
           "0.25",
           "0.50",
           "0.75",
           "1.00"
          ],
          "tickvals": [
           0,
           0.25,
           0.5,
           0.75,
           1
          ],
          "title": "",
          "titlefont": {
           "color": "rgba(0, 0, 0, 1.000)",
           "family": "sans-serif",
           "size": 15
          },
          "type": "-",
          "visible": true,
          "zeroline": false,
          "zerolinecolor": "rgba(0, 0, 0, 1.000)"
         },
         "zaxis": {
          "gridcolor": "rgba(0, 0, 0, 0.100)",
          "gridwidth": 0.5,
          "linecolor": "rgba(0, 0, 0, 1.000)",
          "mirror": false,
          "range": [
           -0.03,
           1.03
          ],
          "showgrid": true,
          "showline": true,
          "showticklabels": true,
          "tickangle": 0,
          "tickcolor": "rgb(0, 0, 0)",
          "tickfont": {
           "color": "rgba(0, 0, 0, 1.000)",
           "family": "sans-serif",
           "size": 11
          },
          "tickmode": "array",
          "ticks": "inside",
          "ticktext": [
           "0.00",
           "0.25",
           "0.50",
           "0.75",
           "1.00"
          ],
          "tickvals": [
           0,
           0.25,
           0.5,
           0.75,
           1
          ],
          "title": "",
          "titlefont": {
           "color": "rgba(0, 0, 0, 1.000)",
           "family": "sans-serif",
           "size": 15
          },
          "type": "-",
          "visible": true,
          "zeroline": false,
          "zerolinecolor": "rgba(0, 0, 0, 1.000)"
         }
        },
        "showlegend": true,
        "width": 600
       }
      },
      "text/html": [
       "    <div id=\"f662052d-4237-4b53-82d2-77bb7329af24\" style=\"width:600px;height:400px;\"></div>\n",
       "    <script>\n",
       "        requirejs.config({\n",
       "        paths: {\n",
       "            Plotly: 'https://cdn.plot.ly/plotly-1.57.1.min'\n",
       "        }\n",
       "    });\n",
       "    require(['Plotly'], function (Plotly) {\n",
       "\n",
       "        var PLOT = document.getElementById('f662052d-4237-4b53-82d2-77bb7329af24');\n",
       "    Plotly.plot(PLOT, [\n",
       "    {\n",
       "        \"xaxis\": \"x\",\n",
       "        \"colorbar\": {\n",
       "            \"title\": \"\"\n",
       "        },\n",
       "        \"yaxis\": \"y\",\n",
       "        \"zaxis\": \"z\",\n",
       "        \"x\": [\n",
       "            0.0,\n",
       "            1.0,\n",
       "            0.0,\n",
       "            0.0,\n",
       "            0.0,\n",
       "            0.0,\n",
       "            0.0,\n",
       "            1.0,\n",
       "            0.0\n",
       "        ],\n",
       "        \"showlegend\": true,\n",
       "        \"mode\": \"lines\",\n",
       "        \"name\": \"y1\",\n",
       "        \"zmin\": null,\n",
       "        \"legendgroup\": \"y1\",\n",
       "        \"z\": [\n",
       "            0.0,\n",
       "            0.0,\n",
       "            0.0,\n",
       "            0.0,\n",
       "            0.0,\n",
       "            1.0,\n",
       "            0.0,\n",
       "            0.0,\n",
       "            1.0\n",
       "        ],\n",
       "        \"zmax\": null,\n",
       "        \"line\": {\n",
       "            \"color\": \"rgba(0, 154, 250, 1.000)\",\n",
       "            \"shape\": \"linear\",\n",
       "            \"dash\": \"solid\",\n",
       "            \"width\": 1\n",
       "        },\n",
       "        \"y\": [\n",
       "            0.0,\n",
       "            0.0,\n",
       "            0.0,\n",
       "            1.0,\n",
       "            0.0,\n",
       "            0.0,\n",
       "            1.0,\n",
       "            0.0,\n",
       "            0.0\n",
       "        ],\n",
       "        \"type\": \"scatter3d\",\n",
       "        \"scene\": \"scene\"\n",
       "    }\n",
       "]\n",
       ", {\n",
       "    \"showlegend\": true,\n",
       "    \"paper_bgcolor\": \"rgba(255, 255, 255, 1.000)\",\n",
       "    \"annotations\": [],\n",
       "    \"height\": 400,\n",
       "    \"margin\": {\n",
       "        \"l\": 0,\n",
       "        \"b\": 20,\n",
       "        \"r\": 0,\n",
       "        \"t\": 20\n",
       "    },\n",
       "    \"plot_bgcolor\": \"rgba(255, 255, 255, 1.000)\",\n",
       "    \"scene\": {\n",
       "        \"camera\": {\n",
       "            \"eye\": {\n",
       "                \"y\": -1.9499999999999997,\n",
       "                \"z\": 1.3,\n",
       "                \"x\": 1.12583302491977\n",
       "            }\n",
       "        },\n",
       "        \"xaxis\": {\n",
       "            \"tickangle\": 0,\n",
       "            \"showline\": true,\n",
       "            \"gridcolor\": \"rgba(0, 0, 0, 0.100)\",\n",
       "            \"showticklabels\": true,\n",
       "            \"gridwidth\": 0.5,\n",
       "            \"titlefont\": {\n",
       "                \"color\": \"rgba(0, 0, 0, 1.000)\",\n",
       "                \"family\": \"sans-serif\",\n",
       "                \"size\": 15\n",
       "            },\n",
       "            \"visible\": true,\n",
       "            \"ticks\": \"inside\",\n",
       "            \"range\": [\n",
       "                -0.03,\n",
       "                1.03\n",
       "            ],\n",
       "            \"tickmode\": \"array\",\n",
       "            \"tickvals\": [\n",
       "                0.0,\n",
       "                0.25,\n",
       "                0.5,\n",
       "                0.75,\n",
       "                1.0\n",
       "            ],\n",
       "            \"tickcolor\": \"rgb(0, 0, 0)\",\n",
       "            \"ticktext\": [\n",
       "                \"0.00\",\n",
       "                \"0.25\",\n",
       "                \"0.50\",\n",
       "                \"0.75\",\n",
       "                \"1.00\"\n",
       "            ],\n",
       "            \"linecolor\": \"rgba(0, 0, 0, 1.000)\",\n",
       "            \"showgrid\": true,\n",
       "            \"zeroline\": false,\n",
       "            \"type\": \"-\",\n",
       "            \"tickfont\": {\n",
       "                \"color\": \"rgba(0, 0, 0, 1.000)\",\n",
       "                \"family\": \"sans-serif\",\n",
       "                \"size\": 11\n",
       "            },\n",
       "            \"title\": \"\",\n",
       "            \"zerolinecolor\": \"rgba(0, 0, 0, 1.000)\",\n",
       "            \"mirror\": false\n",
       "        },\n",
       "        \"domain\": {\n",
       "            \"y\": [\n",
       "                0.03762029746281716,\n",
       "                0.9901574803149606\n",
       "            ],\n",
       "            \"x\": [\n",
       "                0.0658209390492855,\n",
       "                0.9934383202099738\n",
       "            ]\n",
       "        },\n",
       "        \"yaxis\": {\n",
       "            \"tickangle\": 0,\n",
       "            \"showline\": true,\n",
       "            \"gridcolor\": \"rgba(0, 0, 0, 0.100)\",\n",
       "            \"showticklabels\": true,\n",
       "            \"gridwidth\": 0.5,\n",
       "            \"titlefont\": {\n",
       "                \"color\": \"rgba(0, 0, 0, 1.000)\",\n",
       "                \"family\": \"sans-serif\",\n",
       "                \"size\": 15\n",
       "            },\n",
       "            \"visible\": true,\n",
       "            \"ticks\": \"inside\",\n",
       "            \"range\": [\n",
       "                -0.03,\n",
       "                1.03\n",
       "            ],\n",
       "            \"tickmode\": \"array\",\n",
       "            \"tickvals\": [\n",
       "                0.0,\n",
       "                0.25,\n",
       "                0.5,\n",
       "                0.75,\n",
       "                1.0\n",
       "            ],\n",
       "            \"tickcolor\": \"rgb(0, 0, 0)\",\n",
       "            \"ticktext\": [\n",
       "                \"0.00\",\n",
       "                \"0.25\",\n",
       "                \"0.50\",\n",
       "                \"0.75\",\n",
       "                \"1.00\"\n",
       "            ],\n",
       "            \"linecolor\": \"rgba(0, 0, 0, 1.000)\",\n",
       "            \"showgrid\": true,\n",
       "            \"zeroline\": false,\n",
       "            \"type\": \"-\",\n",
       "            \"tickfont\": {\n",
       "                \"color\": \"rgba(0, 0, 0, 1.000)\",\n",
       "                \"family\": \"sans-serif\",\n",
       "                \"size\": 11\n",
       "            },\n",
       "            \"title\": \"\",\n",
       "            \"zerolinecolor\": \"rgba(0, 0, 0, 1.000)\",\n",
       "            \"mirror\": false\n",
       "        },\n",
       "        \"zaxis\": {\n",
       "            \"tickangle\": 0,\n",
       "            \"showline\": true,\n",
       "            \"gridcolor\": \"rgba(0, 0, 0, 0.100)\",\n",
       "            \"showticklabels\": true,\n",
       "            \"gridwidth\": 0.5,\n",
       "            \"titlefont\": {\n",
       "                \"color\": \"rgba(0, 0, 0, 1.000)\",\n",
       "                \"family\": \"sans-serif\",\n",
       "                \"size\": 15\n",
       "            },\n",
       "            \"visible\": true,\n",
       "            \"ticks\": \"inside\",\n",
       "            \"range\": [\n",
       "                -0.03,\n",
       "                1.03\n",
       "            ],\n",
       "            \"tickmode\": \"array\",\n",
       "            \"tickvals\": [\n",
       "                0.0,\n",
       "                0.25,\n",
       "                0.5,\n",
       "                0.75,\n",
       "                1.0\n",
       "            ],\n",
       "            \"tickcolor\": \"rgb(0, 0, 0)\",\n",
       "            \"ticktext\": [\n",
       "                \"0.00\",\n",
       "                \"0.25\",\n",
       "                \"0.50\",\n",
       "                \"0.75\",\n",
       "                \"1.00\"\n",
       "            ],\n",
       "            \"linecolor\": \"rgba(0, 0, 0, 1.000)\",\n",
       "            \"showgrid\": true,\n",
       "            \"zeroline\": false,\n",
       "            \"type\": \"-\",\n",
       "            \"tickfont\": {\n",
       "                \"color\": \"rgba(0, 0, 0, 1.000)\",\n",
       "                \"family\": \"sans-serif\",\n",
       "                \"size\": 11\n",
       "            },\n",
       "            \"title\": \"\",\n",
       "            \"zerolinecolor\": \"rgba(0, 0, 0, 1.000)\",\n",
       "            \"mirror\": false\n",
       "        }\n",
       "    },\n",
       "    \"legend\": {\n",
       "        \"yanchor\": \"auto\",\n",
       "        \"xanchor\": \"auto\",\n",
       "        \"bordercolor\": \"rgba(0, 0, 0, 1.000)\",\n",
       "        \"bgcolor\": \"rgba(255, 255, 255, 1.000)\",\n",
       "        \"borderwidth\": 1,\n",
       "        \"tracegroupgap\": 0,\n",
       "        \"y\": 1.0,\n",
       "        \"font\": {\n",
       "            \"color\": \"rgba(0, 0, 0, 1.000)\",\n",
       "            \"family\": \"sans-serif\",\n",
       "            \"size\": 11\n",
       "        },\n",
       "        \"title\": {\n",
       "            \"font\": {\n",
       "                \"color\": \"rgba(0, 0, 0, 1.000)\",\n",
       "                \"family\": \"sans-serif\",\n",
       "                \"size\": 15\n",
       "            },\n",
       "            \"text\": \"\"\n",
       "        },\n",
       "        \"traceorder\": \"normal\",\n",
       "        \"x\": 1.0\n",
       "    },\n",
       "    \"width\": 600\n",
       "}\n",
       ");\n",
       "\n",
       "    });\n",
       "    </script>\n"
      ]
     },
     "execution_count": 7,
     "metadata": {},
     "output_type": "execute_result"
    }
   ],
   "source": [
    "X=Polymake.fulton.NormalToricVariety(INPUT_RAYS=[1 0 0; 0 1 0; 0 0 1],INPUT_CONES=[[0,1,2]])\n",
    "showFan(X)"
   ]
  },
  {
   "cell_type": "code",
   "execution_count": 6,
   "id": "478ef8a4",
   "metadata": {},
   "outputs": [
    {
     "data": {
      "text/plain": [
       "Plots.PlotlyJSBackend()"
      ]
     },
     "execution_count": 6,
     "metadata": {},
     "output_type": "execute_result"
    }
   ],
   "source": [
    "using WebIO\n",
    "plotlyjs()"
   ]
  },
  {
   "cell_type": "code",
   "execution_count": null,
   "id": "6c1acefa",
   "metadata": {},
   "outputs": [],
   "source": []
  }
 ],
 "metadata": {
  "kernelspec": {
   "display_name": "Julia 1.6.1",
   "language": "julia",
   "name": "julia-1.6"
  },
  "language_info": {
   "file_extension": ".jl",
   "mimetype": "application/julia",
   "name": "julia",
   "version": "1.6.1"
  }
 },
 "nbformat": 4,
 "nbformat_minor": 5
}
