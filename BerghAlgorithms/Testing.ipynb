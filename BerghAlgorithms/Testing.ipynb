{
 "cells": [
  {
   "cell_type": "code",
   "execution_count": 1,
   "id": "aff4ac79-f474-4955-b156-4af520b568a5",
   "metadata": {},
   "outputs": [],
   "source": [
    "using Pkg\n",
    "Pkg.activate(\".\")"
   ]
  },
  {
   "cell_type": "code",
   "execution_count": 10,
   "id": "f3bb3e38-6c2b-4110-b65e-d02beef9f924",
   "metadata": {},
   "outputs": [],
   "source": [
    "using BerghAlgorithms\n",
    "using Polymake"
   ]
  },
  {
   "cell_type": "code",
   "execution_count": 12,
   "id": "5266549d-32fe-410a-87d1-168ab5cce71a",
   "metadata": {},
   "outputs": [
    {
     "data": {
      "text/plain": [
       "findStackyRayMatrix (generic function with 1 method)"
      ]
     },
     "execution_count": 12,
     "metadata": {},
     "output_type": "execute_result"
    }
   ],
   "source": [
    "include(\"/mnt/c/Users/Kitty/Documents/Github/destackification/BerghAlgorithms/src/StackyFan.jl\")"
   ]
  },
  {
   "cell_type": "code",
   "execution_count": 13,
   "id": "4df6d33e-9d1a-4fde-88d3-1813f3cd1926",
   "metadata": {},
   "outputs": [
    {
     "data": {
      "text/plain": [
       "pm::Matrix<pm::Rational>\n",
       "1 0 0\n",
       "1 1 0\n",
       "1 0 1\n",
       "1 1 1\n",
       "2 1 1\n"
      ]
     },
     "execution_count": 13,
     "metadata": {},
     "output_type": "execute_result"
    }
   ],
   "source": [
    "X=Polymake.fulton.NormalToricVariety(INPUT_RAYS=[1 0 0;1 1 0;1 0 1;1 1 1],INPUT_CONES=[[0,1,2,3]])\n",
    "makeSmooth(X).INPUT_RAYS"
   ]
  },
  {
   "cell_type": "code",
   "execution_count": null,
   "id": "a2371065-bbb7-41c3-a028-65c0251a043b",
   "metadata": {},
   "outputs": [],
   "source": []
  }
 ],
 "metadata": {
  "kernelspec": {
   "display_name": "Julia 1.6.1",
   "language": "julia",
   "name": "julia-1.6"
  },
  "language_info": {
   "file_extension": ".jl",
   "mimetype": "application/julia",
   "name": "julia",
   "version": "1.6.1"
  }
 },
 "nbformat": 4,
 "nbformat_minor": 5
}
