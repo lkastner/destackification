{
 "cells": [
  {
   "cell_type": "code",
   "execution_count": 1,
   "id": "aff4ac79-f474-4955-b156-4af520b568a5",
   "metadata": {},
   "outputs": [],
   "source": [
    "using Pkg\n",
    "Pkg.activate(\".\")"
   ]
  },
  {
   "cell_type": "code",
   "execution_count": 3,
   "id": "f3bb3e38-6c2b-4110-b65e-d02beef9f924",
   "metadata": {},
   "outputs": [],
   "source": [
    "using BerghAlgorithms"
   ]
  },
  {
   "cell_type": "code",
   "execution_count": 5,
   "id": "5266549d-32fe-410a-87d1-168ab5cce71a",
   "metadata": {},
   "outputs": [
    {
     "ename": "LoadError",
     "evalue": "ArgumentError: Package BerghAlgorithms does not have a documentation source directory at standard location.\nSearched at: /mnt/c/Users/Kitty/Documents/Github/destackification/BerghAlgorithms/docs/src\nIf ...\n",
     "output_type": "error",
     "traceback": [
      "ArgumentError: Package BerghAlgorithms does not have a documentation source directory at standard location.\nSearched at: /mnt/c/Users/Kitty/Documents/Github/destackification/BerghAlgorithms/docs/src\nIf ...\n",
      "",
      "Stacktrace:",
      " [1] doctest(package::Module; manual::Bool, testset::Nothing, kwargs::Base.Iterators.Pairs{Union{}, Union{}, Tuple{}, NamedTuple{(), Tuple{}}})",
      "   @ Documenter ~/.julia/packages/Documenter/Pkhwa/src/Documenter.jl:768",
      " [2] doctest(package::Module)",
      "   @ Documenter ~/.julia/packages/Documenter/Pkhwa/src/Documenter.jl:762",
      " [3] top-level scope",
      "   @ In[5]:2",
      " [4] eval",
      "   @ ./boot.jl:360 [inlined]",
      " [5] include_string(mapexpr::typeof(REPL.softscope), mod::Module, code::String, filename::String)",
      "   @ Base ./loading.jl:1094"
     ]
    }
   ],
   "source": [
    "using Documenter\n",
    "doctest(BerghAlgorithms)"
   ]
  },
  {
   "cell_type": "code",
   "execution_count": null,
   "id": "4df6d33e-9d1a-4fde-88d3-1813f3cd1926",
   "metadata": {},
   "outputs": [],
   "source": []
  }
 ],
 "metadata": {
  "kernelspec": {
   "display_name": "Julia 1.6.1",
   "language": "julia",
   "name": "julia-1.6"
  },
  "language_info": {
   "file_extension": ".jl",
   "mimetype": "application/julia",
   "name": "julia",
   "version": "1.6.1"
  }
 },
 "nbformat": 4,
 "nbformat_minor": 5
}
